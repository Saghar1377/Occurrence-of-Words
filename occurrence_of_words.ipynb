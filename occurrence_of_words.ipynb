{
 "cells": [
  {
   "cell_type": "code",
   "execution_count": null,
   "id": "8cc56385",
   "metadata": {},
   "outputs": [],
   "source": [
    "import pandas as pd\n",
    "import numpy as np"
   ]
  },
  {
   "cell_type": "code",
   "execution_count": null,
   "id": "f3e8e12a",
   "metadata": {},
   "outputs": [],
   "source": [
    "import requests\n",
    "url = \"https://www.gutenberg.org/cache/epub/100/pg100.txt\"\n",
    "\n",
    "response = requests.get(url)\n",
    "text = response.text\n"
   ]
  },
  {
   "cell_type": "markdown",
   "id": "759ec824",
   "metadata": {},
   "source": [
    "# Question 1"
   ]
  },
  {
   "cell_type": "markdown",
   "id": "e7b07030",
   "metadata": {},
   "source": [
    "Implement the MapReduce algorithm to count the number of occurrences of each word."
   ]
  },
  {
   "cell_type": "code",
   "execution_count": null,
   "id": "bf10ef42",
   "metadata": {
    "scrolled": true
   },
   "outputs": [],
   "source": [
    "import re\n",
    "\n",
    "def split_into_sentences(paragraph):\n",
    "    sentences = re.split(r'(?<=[.!?])\\s+', paragraph)\n",
    "    return sentences\n",
    "\n",
    "sentences = split_into_sentences(text)\n",
    "\n",
    "# Print the sentences\n",
    "for sentence in sentences:\n",
    "    print(sentence)\n"
   ]
  },
  {
   "cell_type": "code",
   "execution_count": null,
   "id": "1904b7b2",
   "metadata": {
    "scrolled": true
   },
   "outputs": [],
   "source": [
    "splitted_table = []\n",
    "for sentence in sentences:\n",
    "    sentence=sentence.split()\n",
    "    splitted_table.append(sentence)\n",
    "    \n",
    "for i, splitted in enumerate(splitted_table):\n",
    "    print(f\"Table {i+1}:\")\n",
    "    print(splitted)"
   ]
  },
  {
   "cell_type": "code",
   "execution_count": null,
   "id": "57819c1c",
   "metadata": {},
   "outputs": [],
   "source": [
    "my_list=[]\n",
    "for table in splitted_table:\n",
    "    result=[]\n",
    "    numbers = list(range(1, len(table)))\n",
    "    result = list(zip(numbers,table))\n",
    "    my_list.append(result)\n",
    "    \n",
    "for i, result in enumerate(my_list):\n",
    "    print(f\"Table {i+1}:\")\n",
    "    print(result)"
   ]
  },
  {
   "cell_type": "code",
   "execution_count": null,
   "id": "00c1e6d0",
   "metadata": {},
   "outputs": [],
   "source": [
    "dictionaries = []\n",
    "\n",
    "for result in my_list:\n",
    "    my_dict = {}\n",
    "    for key in result:\n",
    "        my_dict[key] = [1]\n",
    "    dictionaries.append(my_dict)\n",
    "\n",
    "# Print the dictionaries\n",
    "for i, my_dict in enumerate(dictionaries):\n",
    "    print(f\"Table {i+1}:\")\n",
    "    for key, values in my_dict.items():\n",
    "        print(key, values)\n",
    "    print()"
   ]
  },
  {
   "cell_type": "code",
   "execution_count": null,
   "id": "bb4017d5",
   "metadata": {},
   "outputs": [],
   "source": [
    "lastlist = []\n",
    "for dictionary in dictionaries:\n",
    "    firstlist = {}\n",
    "    for key in dictionary.keys():\n",
    "        new_key = key[1]\n",
    "        if new_key in firstlist:\n",
    "            firstlist[new_key].append(1)\n",
    "        else:\n",
    "            firstlist[new_key] = [1]\n",
    "    lastlist.append(firstlist)\n",
    "    \n",
    "for i, firstlist in enumerate(lastlist):\n",
    "    print(f\"Table {i+1}:\")\n",
    "    for key, values in firstlist.items():\n",
    "        print(key, values)\n",
    "    print()"
   ]
  },
  {
   "cell_type": "code",
   "execution_count": null,
   "id": "276dd96c",
   "metadata": {},
   "outputs": [],
   "source": [
    "def collect_values(dictionaries):\n",
    "    common_values = {}\n",
    "    \n",
    "    for dictionary in dictionaries:\n",
    "        for key in dictionary:\n",
    "            if key in common_values:\n",
    "                common_values[key].append(dictionary[key])\n",
    "            else:\n",
    "                common_values[key] = [dictionary[key]]\n",
    "    \n",
    "    return common_values\n",
    "\n",
    "\n",
    "collect= collect_values(lastlist)\n",
    "collect"
   ]
  },
  {
   "cell_type": "code",
   "execution_count": null,
   "id": "05a3bac8",
   "metadata": {
    "scrolled": true
   },
   "outputs": [],
   "source": [
    "def count_values(A):\n",
    "    count_dict = {}\n",
    "    for key, values in A.items():\n",
    "        count = 0\n",
    "        for sublist in values:\n",
    "            count += sublist.count(1)\n",
    "        count_dict[key] = count\n",
    "    return count_dict\n",
    "\n",
    "counted = count_values(collect)\n",
    "print(counted)\n"
   ]
  },
  {
   "cell_type": "markdown",
   "id": "ec5b39a3",
   "metadata": {},
   "source": [
    "So, here we have the number of accurence of each word."
   ]
  },
  {
   "cell_type": "markdown",
   "id": "01e514f8",
   "metadata": {},
   "source": [
    "# Question 2"
   ]
  },
  {
   "cell_type": "markdown",
   "id": "475ef6d3",
   "metadata": {},
   "source": [
    "Implement a MapReduce algorithm to identify the top-k most occurred words."
   ]
  },
  {
   "cell_type": "code",
   "execution_count": null,
   "id": "7782b859",
   "metadata": {},
   "outputs": [],
   "source": [
    "#All I need is sorting \"counted\"  and picking k of them."
   ]
  },
  {
   "cell_type": "code",
   "execution_count": null,
   "id": "cd9eef60",
   "metadata": {},
   "outputs": [],
   "source": [
    "k = int(input(\"Enter the number of the most accurent words you want:\"))\n",
    "sorted_dict = {key: value for key, value in sorted(counted.items(), key=lambda item: item[1], reverse=True)}\n",
    "my_tuple = tuple(sorted_dict.items())[:k]\n",
    "print(my_tuple)\n",
    "\n",
    "    "
   ]
  },
  {
   "cell_type": "markdown",
   "id": "f710f9a5",
   "metadata": {},
   "source": [
    "**Previous steps for this question are like what we did in question 1.**"
   ]
  },
  {
   "cell_type": "markdown",
   "id": "89d1b1c8",
   "metadata": {},
   "source": [
    "# Question 3"
   ]
  },
  {
   "cell_type": "markdown",
   "id": "90b8ba2e",
   "metadata": {},
   "source": [
    "Use MapReduce to count the number of times each pair of characters appears together in Shakespeare's works. The mapper function will extract each line of text and identify which characters are present in that line. The mapper will then emit a key-value pair for each pair of characters that appear together in that line. The reducer function will sum up the values for each key to get the total number of times each pair of characters appears together.\n"
   ]
  },
  {
   "cell_type": "code",
   "execution_count": null,
   "id": "93ad7491",
   "metadata": {},
   "outputs": [],
   "source": [
    "def extract_lines(text):\n",
    "    lines = text.split(\"\\n\")\n",
    "    return lines\n",
    "\n",
    "lines = extract_lines(text)\n",
    "\n",
    "for line in lines:\n",
    "    print(line)"
   ]
  },
  {
   "cell_type": "markdown",
   "id": "7f7b9896",
   "metadata": {},
   "source": [
    "Mapper"
   ]
  },
  {
   "cell_type": "code",
   "execution_count": null,
   "id": "18d099b3",
   "metadata": {},
   "outputs": [],
   "source": [
    "def generate_2shingles(text):\n",
    "    shingles = []\n",
    "    for i in range(len(text) - 2):\n",
    "        shingle = text[i:i+2]\n",
    "        shingles.append(shingle)\n",
    "    return shingles\n",
    "\n",
    "shingles = []\n",
    "for i, line in enumerate(lines):\n",
    "    shingle = generate_2shingles(line)\n",
    "    shingles.append(shingle)\n",
    "    print(f\"Line {i+1}:\")\n",
    "    print (shingle)\n",
    "    \n"
   ]
  },
  {
   "cell_type": "code",
   "execution_count": null,
   "id": "3721cb1f",
   "metadata": {},
   "outputs": [],
   "source": [
    "my_list=[]\n",
    "for shingle in shingles:\n",
    "    result=[]\n",
    "    numbers = list(range(1, len(shingle)))\n",
    "    result = list(zip(numbers,shingle))\n",
    "    my_list.append(result)\n",
    "    \n",
    "for i, result in enumerate(my_list):\n",
    "    print(f\"Line {i+1}:\")\n",
    "    print(result)"
   ]
  },
  {
   "cell_type": "code",
   "execution_count": null,
   "id": "105a813b",
   "metadata": {},
   "outputs": [],
   "source": [
    "dictionaries = []\n",
    "\n",
    "for result in my_list:\n",
    "    my_dict = {}\n",
    "    for key in result:\n",
    "        my_dict[key] = [1]\n",
    "    dictionaries.append(my_dict)\n",
    "\n",
    "# Print the dictionaries\n",
    "for i, my_dict in enumerate(dictionaries):\n",
    "    print(f\"Line {i+1}:\")\n",
    "    for key, values in my_dict.items():\n",
    "        print(key, values)\n",
    "    print()"
   ]
  },
  {
   "cell_type": "code",
   "execution_count": null,
   "id": "9e741dec",
   "metadata": {},
   "outputs": [],
   "source": [
    "def collect_values(dictionaries):\n",
    "    common_values = {}\n",
    "    \n",
    "    for dictionary in dictionaries:\n",
    "        for key in dictionary:\n",
    "            if key in common_values:\n",
    "                common_values[key].append(dictionary[key])\n",
    "            else:\n",
    "                common_values[key] = [dictionary[key]]\n",
    "    \n",
    "    return common_values\n",
    "\n",
    "\n",
    "collect= collect_values(lastlist)\n",
    "collect"
   ]
  },
  {
   "cell_type": "markdown",
   "id": "325e73f1",
   "metadata": {},
   "source": [
    "Reduse"
   ]
  },
  {
   "cell_type": "code",
   "execution_count": null,
   "id": "52dbc742",
   "metadata": {
    "scrolled": true
   },
   "outputs": [],
   "source": [
    "\n",
    "def count_values(A):\n",
    "    count_dict = {}\n",
    "    for key, values in A.items():\n",
    "        count = 0\n",
    "        for sublist in values:\n",
    "            count += sublist.count(1)\n",
    "        count_dict[key] = count\n",
    "    return count_dict\n",
    "\n",
    "counted = count_values(collect)\n",
    "print(counted)\n"
   ]
  },
  {
   "cell_type": "code",
   "execution_count": null,
   "id": "f33cfd4a",
   "metadata": {},
   "outputs": [],
   "source": []
  }
 ],
 "metadata": {
  "kernelspec": {
   "display_name": "Python 3 (ipykernel)",
   "language": "python",
   "name": "python3"
  },
  "language_info": {
   "codemirror_mode": {
    "name": "ipython",
    "version": 3
   },
   "file_extension": ".py",
   "mimetype": "text/x-python",
   "name": "python",
   "nbconvert_exporter": "python",
   "pygments_lexer": "ipython3",
   "version": "3.11.2"
  }
 },
 "nbformat": 4,
 "nbformat_minor": 5
}
